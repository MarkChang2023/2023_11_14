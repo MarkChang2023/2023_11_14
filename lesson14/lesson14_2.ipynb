{
 "cells": [
  {
   "cell_type": "code",
   "execution_count": 1,
   "metadata": {},
   "outputs": [
    {
     "name": "stdout",
     "output_type": "stream",
     "text": [
      "下載成功\n"
     ]
    }
   ],
   "source": [
    "#下載文字檔\n",
    "import requests\n",
    "url:str = 'https://data.moenv.gov.tw/api/v2/stat_p_90?api_key=e8dd42e6-9b8b-43f8-991e-b3dee723a52d&limit=1000&sort=ImportDate desc&format=CSV'\n",
    "response:requests.Response = requests.get(url)\n",
    "if response.status_code == 200:\n",
    "    print(\"下載成功\")\n",
    "    data:str = response.text\n",
    "elif response.status_code >= 400:\n",
    "    print(\"下載失敗\")\n",
    "elif response.status_code > 200:\n",
    "    print(\"下載有問題\")"
   ]
  },
  {
   "cell_type": "code",
   "execution_count": 2,
   "metadata": {},
   "outputs": [],
   "source": [
    "#將str格式轉換成csv格式\n",
    "with open(\"列管公廁.csv\", mode='w', encoding='utf8') as file:\n",
    "    file.write(data)"
   ]
  },
  {
   "cell_type": "code",
   "execution_count": 3,
   "metadata": {},
   "outputs": [],
   "source": [
    "#讀取csv檔，成為python的2維資料結構，list裡面有dict\n",
    "import csv\n",
    "with open(\"列管公廁.csv\", mode='r', encoding='utf8', newline='') as file:\n",
    "    dict_reader = csv.DictReader(file)\n",
    "    csv_data:list[dict] = list(dict_reader)"
   ]
  },
  {
   "cell_type": "code",
   "execution_count": null,
   "metadata": {},
   "outputs": [],
   "source": [
    "#使用DataFrame顯示資料\n",
    "import pandas as pd\n",
    "dataFrame = pd.DataFrame(csv_data)\n",
    "dataFrame"
   ]
  },
  {
   "cell_type": "code",
   "execution_count": 5,
   "metadata": {},
   "outputs": [
    {
     "name": "stdout",
     "output_type": "stream",
     "text": [
      "下載成功\n"
     ]
    }
   ],
   "source": [
    "#作業5下載個股日成交資訊.csv，並使用DataFrame顯示下載的資料\n",
    "#下載文字檔\n",
    "import requests\n",
    "url:str = 'https://raw.githubusercontent.com/roberthsu2003/python/master/%E6%AA%94%E6%A1%88%E5%AD%98%E5%8F%96/%E5%80%8B%E8%82%A1%E6%97%A5%E6%88%90%E4%BA%A4%E8%B3%87%E8%A8%8A.csv'\n",
    "response:requests.Response = requests.get(url)\n",
    "if response.status_code == 200:\n",
    "    print(\"下載成功\")\n",
    "    data:str = response.text\n",
    "elif response.status_code >= 400:\n",
    "    print(\"下載失敗\")\n",
    "elif response.status_code > 200:\n",
    "    print(\"下載有問題\")"
   ]
  },
  {
   "cell_type": "code",
   "execution_count": 6,
   "metadata": {},
   "outputs": [],
   "source": [
    "#將str格式轉換成csv格式\n",
    "with open(\"個股日成交資訊.csv\", mode='w', encoding='utf8') as file:\n",
    "    file.write(data)"
   ]
  },
  {
   "cell_type": "code",
   "execution_count": 1,
   "metadata": {},
   "outputs": [],
   "source": [
    "#讀取csv檔，成為python的2維資料結構，list裡面有dict\n",
    "import csv\n",
    "with open(\"個股日成交資訊.csv\", mode='r', encoding='utf8', newline='') as file:\n",
    "    dict_reader = csv.DictReader(file)\n",
    "    csv_data:list[dict] = list(dict_reader)"
   ]
  },
  {
   "cell_type": "code",
   "execution_count": null,
   "metadata": {},
   "outputs": [],
   "source": [
    "#使用DataFrame顯示資料\n",
    "import pandas as pd\n",
    "dataFrame = pd.DataFrame(csv_data)\n",
    "dataFrame"
   ]
  }
 ],
 "metadata": {
  "kernelspec": {
   "display_name": "Python 3",
   "language": "python",
   "name": "python3"
  },
  "language_info": {
   "codemirror_mode": {
    "name": "ipython",
    "version": 3
   },
   "file_extension": ".py",
   "mimetype": "text/x-python",
   "name": "python",
   "nbconvert_exporter": "python",
   "pygments_lexer": "ipython3",
   "version": "3.10.13"
  }
 },
 "nbformat": 4,
 "nbformat_minor": 2
}
