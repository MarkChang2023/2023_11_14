{
 "cells": [
  {
   "cell_type": "code",
   "execution_count": null,
   "metadata": {},
   "outputs": [],
   "source": [
    "import pandas as pd\n",
    "#把csv檔用最快的方式轉成DataFrame，使用function read_csv()\n",
    "\n",
    "dataFrame1 = pd.read_csv('各鄉鎮市區人口密度.csv')\n",
    "#清理資料，將原始資料變成我們想要的樣子"
   ]
  }
 ],
 "metadata": {
  "kernelspec": {
   "display_name": "Python 3",
   "language": "python",
   "name": "python3"
  },
  "language_info": {
   "name": "python",
   "version": "3.10.13"
  }
 },
 "nbformat": 4,
 "nbformat_minor": 2
}
