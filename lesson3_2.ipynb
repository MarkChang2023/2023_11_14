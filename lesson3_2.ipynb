{
 "cells": [
  {
   "cell_type": "code",
   "execution_count": 3,
   "metadata": {},
   "outputs": [
    {
     "data": {
      "text/plain": [
       "5"
      ]
     },
     "execution_count": 3,
     "metadata": {},
     "output_type": "execute_result"
    }
   ],
   "source": [
    "n = 5\n",
    "n + 5\n",
    "n"
   ]
  },
  {
   "cell_type": "code",
   "execution_count": 6,
   "metadata": {},
   "outputs": [
    {
     "data": {
      "text/plain": [
       "10"
      ]
     },
     "execution_count": 6,
     "metadata": {},
     "output_type": "execute_result"
    }
   ],
   "source": [
    "n = 5\n",
    "n = n + 5\n",
    "n"
   ]
  },
  {
   "cell_type": "code",
   "execution_count": 7,
   "metadata": {},
   "outputs": [
    {
     "name": "stdout",
     "output_type": "stream",
     "text": [
      "3數相加的總和是:18\n"
     ]
    }
   ],
   "source": [
    "total = 0\n",
    "value = eval(input(\"請出入第1個數值:\"))\n",
    "total = total + value\n",
    "\n",
    "value = eval(input(\"請出入第2個數值:\"))\n",
    "total = total + value\n",
    "\n",
    "value = eval(input(\"請出入第3個數值:\"))\n",
    "total = total + value\n",
    "\n",
    "print(f\"3數相加的總和是:{total}\")"
   ]
  },
  {
   "cell_type": "code",
   "execution_count": 8,
   "metadata": {},
   "outputs": [
    {
     "name": "stdout",
     "output_type": "stream",
     "text": [
      "3數相加的總和是:157.6\n"
     ]
    }
   ],
   "source": [
    "#複合指定運算子\n",
    "total = 0\n",
    "value = eval(input(\"請出入第1個數值:\"))\n",
    "total += value\n",
    "\n",
    "value = eval(input(\"請出入第2個數值:\"))\n",
    "total += value\n",
    "\n",
    "value = eval(input(\"請出入第3個數值:\"))\n",
    "total += value\n",
    "\n",
    "print(f\"3數相加的總和是:{total:.2f}\")"
   ]
  },
  {
   "cell_type": "code",
   "execution_count": 11,
   "metadata": {},
   "outputs": [
    {
     "name": "stdout",
     "output_type": "stream",
     "text": [
      "對邊:25,斜邊:50\n",
      "角度為30.00\n"
     ]
    }
   ],
   "source": [
    "#高中數學\n",
    "import math\n",
    "\n",
    "altitude = eval(input(\"請輸入對邊:\"))\n",
    "hypotenuse = eval(input(\"請輸入斜邊:\"))\n",
    "\n",
    "radian = math.asin(altitude/hypotenuse)\n",
    "degree = math.degrees(radian)\n",
    "\n",
    "print(f\"對邊:{altitude},斜邊:{hypotenuse}\")\n",
    "print(f\"角度為{degree:.2f}\")"
   ]
  }
 ],
 "metadata": {
  "kernelspec": {
   "display_name": "Python 3",
   "language": "python",
   "name": "python3"
  },
  "language_info": {
   "codemirror_mode": {
    "name": "ipython",
    "version": 3
   },
   "file_extension": ".py",
   "mimetype": "text/x-python",
   "name": "python",
   "nbconvert_exporter": "python",
   "pygments_lexer": "ipython3",
   "version": "3.10.13"
  }
 },
 "nbformat": 4,
 "nbformat_minor": 2
}
