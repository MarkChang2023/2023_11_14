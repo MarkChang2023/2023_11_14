{
 "cells": [
  {
   "cell_type": "code",
   "execution_count": 6,
   "metadata": {},
   "outputs": [
    {
     "data": {
      "text/plain": [
       "314.1592653589793"
      ]
     },
     "execution_count": 6,
     "metadata": {},
     "output_type": "execute_result"
    }
   ],
   "source": [
    "import math\n",
    "#1個參數，有傳出值\n",
    "def circle_area(radius):\n",
    "    area = radius **2 * math.pi\n",
    "    return area"
   ]
  },
  {
   "cell_type": "code",
   "execution_count": 12,
   "metadata": {},
   "outputs": [
    {
     "name": "stdout",
     "output_type": "stream",
     "text": [
      "請輸入半徑:100.0\n",
      "半徑為100.0,圓面積是:31415.926535897932\n"
     ]
    }
   ],
   "source": [
    "import pyinputplus as pyip\n",
    "radius = pyip.inputFloat(\"請輸入半徑:\")\n",
    "print(radius)\n",
    "area = circle_area(radius)\n",
    "print(f\"半徑為{radius},圓面積是:{area}\")"
   ]
  },
  {
   "cell_type": "code",
   "execution_count": 1,
   "metadata": {},
   "outputs": [
    {
     "data": {
      "text/plain": [
       "33.0"
      ]
     },
     "execution_count": 1,
     "metadata": {},
     "output_type": "execute_result"
    }
   ],
   "source": [
    "#梯形面積\n",
    "\n",
    "def area(top,bottom,height):\n",
    "    return (top + bottom) * height / 2\n",
    "\n",
    "#引數值的呼叫，要依照參數位置和順序\n",
    "area(3.3,8.7,5.5)"
   ]
  },
  {
   "cell_type": "code",
   "execution_count": 3,
   "metadata": {},
   "outputs": [
    {
     "data": {
      "text/plain": [
       "33.0"
      ]
     },
     "execution_count": 3,
     "metadata": {},
     "output_type": "execute_result"
    }
   ],
   "source": [
    "#引數名稱的呼叫\n",
    "area(top=3.3,bottom=8.7,height=5.5)\n",
    "\n",
    "#引數名稱的呼叫，可以不依照位置和順序\n",
    "area(height=5.5,top=3.3,bottom=8.7,)"
   ]
  },
  {
   "cell_type": "code",
   "execution_count": 4,
   "metadata": {},
   "outputs": [
    {
     "data": {
      "text/plain": [
       "33.0"
      ]
     },
     "execution_count": 4,
     "metadata": {},
     "output_type": "execute_result"
    }
   ],
   "source": [
    "area(height=5.5,top=3.3,bottom=8.7)"
   ]
  }
 ],
 "metadata": {
  "kernelspec": {
   "display_name": "Python 3",
   "language": "python",
   "name": "python3"
  },
  "language_info": {
   "codemirror_mode": {
    "name": "ipython",
    "version": 3
   },
   "file_extension": ".py",
   "mimetype": "text/x-python",
   "name": "python",
   "nbconvert_exporter": "python",
   "pygments_lexer": "ipython3",
   "version": "3.10.13"
  }
 },
 "nbformat": 4,
 "nbformat_minor": 2
}
