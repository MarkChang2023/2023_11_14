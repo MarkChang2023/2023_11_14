{
 "cells": [
  {
   "cell_type": "code",
   "execution_count": 3,
   "metadata": {},
   "outputs": [
    {
     "data": {
      "text/plain": [
       "{'姓名': '馮芳如', '國文': 92, '英文': 75, '數學': 92, '地理': 89, '歷史': 77}"
      ]
     },
     "execution_count": 3,
     "metadata": {},
     "output_type": "execute_result"
    }
   ],
   "source": [
    "stu1 = {'姓名':'陳怡伶',\n",
    "        '國文':89,\n",
    "        '英文':92,\n",
    "        '數學':83,\n",
    "        '地理':91,\n",
    "        '歷史':65\n",
    "        }\n",
    "stu1\n",
    "\n",
    "stu2 = {'姓名':'馮芳如',\n",
    "        '國文':92,\n",
    "        '英文':75,\n",
    "        '數學':92,\n",
    "        '地理':89,\n",
    "        '歷史':77\n",
    "        }\n",
    "stu2"
   ]
  },
  {
   "cell_type": "code",
   "execution_count": 4,
   "metadata": {},
   "outputs": [
    {
     "data": {
      "text/plain": [
       "[{'姓名': '陳怡伶', '國文': 89, '英文': 92, '數學': 83, '地理': 91, '歷史': 65},\n",
       " {'姓名': '馮芳如', '國文': 92, '英文': 75, '數學': 92, '地理': 89, '歷史': 77}]"
      ]
     },
     "execution_count": 4,
     "metadata": {},
     "output_type": "execute_result"
    }
   ],
   "source": [
    "students = [stu1,stu2]\n",
    "students"
   ]
  },
  {
   "cell_type": "code",
   "execution_count": 5,
   "metadata": {},
   "outputs": [],
   "source": [
    "from random import randint,choices\n",
    "\n",
    "def getStudents(nums:int) -> list[dict]:\n",
    "    students:list[dict] = []\n",
    "    with open('names.txt', mode='r', encoding='utf-8') as file:\n",
    "        names:str = file.read()\n",
    "    nameList:list[str] = names.split('\\n')\n",
    "    names:list[str] = choices(nameList,k=nums)\n",
    "    \n",
    "    for i in range(nums):\n",
    "        stu = {\n",
    "            '姓名':names[i],\n",
    "            '國文':randint(45,100),\n",
    "            '英文':randint(45,100),\n",
    "            '數學':randint(45,100),\n",
    "            '地理':randint(45,100),\n",
    "            '歷史':randint(45,100)\n",
    "            }\n",
    "        students.append(stu)\n",
    "    return students\n",
    "    \n"
   ]
  },
  {
   "cell_type": "code",
   "execution_count": 6,
   "metadata": {},
   "outputs": [
    {
     "name": "stdout",
     "output_type": "stream",
     "text": [
      "請輸入學生的人數(1~50):7\n"
     ]
    },
    {
     "data": {
      "text/plain": [
       "[{'姓名': '郭淑枝', '國文': 62, '英文': 53, '數學': 70, '地理': 91, '歷史': 91},\n",
       " {'姓名': '鄭孟芳', '國文': 49, '英文': 84, '數學': 54, '地理': 51, '歷史': 52},\n",
       " {'姓名': '鄧亭聿', '國文': 85, '英文': 70, '數學': 61, '地理': 95, '歷史': 52},\n",
       " {'姓名': '黃詩妃', '國文': 54, '英文': 56, '數學': 59, '地理': 49, '歷史': 52},\n",
       " {'姓名': '孫宜珊', '國文': 91, '英文': 80, '數學': 70, '地理': 76, '歷史': 82},\n",
       " {'姓名': '蕭淑華', '國文': 75, '英文': 84, '數學': 78, '地理': 58, '歷史': 75},\n",
       " {'姓名': '游一鈺', '國文': 66, '英文': 64, '數學': 50, '地理': 57, '歷史': 72}]"
      ]
     },
     "execution_count": 6,
     "metadata": {},
     "output_type": "execute_result"
    }
   ],
   "source": [
    "import pyinputplus as pyip\n",
    "s_nums:int = pyip.inputInt(\"請輸入學生的人數(1~50):\", min=1, max=50)\n",
    "print(s_nums)\n",
    "students = getStudents(s_nums)\n",
    "students"
   ]
  },
  {
   "cell_type": "code",
   "execution_count": 8,
   "metadata": {},
   "outputs": [
    {
     "name": "stdout",
     "output_type": "stream",
     "text": [
      "寫入成功\n"
     ]
    }
   ],
   "source": [
    "import csv\n",
    "from csv import DictWriter\n",
    "\n",
    "def save_to_csv(students:list[dict], fileName:str) -> None:\n",
    "    fileNameExtension = fileName + '.csv'\n",
    "    with open(fileNameExtension, mode='w', encoding='utf-8', newline='') as file:\n",
    "        fieldnames:list[str] = ['姓名', '國文', '英文', '數學', '地理', '歷史']\n",
    "        writer:DictWriter = csv.DictWriter(file, fieldnames=fieldnames)\n",
    "        writer.writeheader()\n",
    "        writer.writerows(students)\n",
    "    print('寫入成功')\n",
    "\n",
    "save_to_csv(students, 'class2')"
   ]
  },
  {
   "cell_type": "code",
   "execution_count": 9,
   "metadata": {},
   "outputs": [
    {
     "name": "stdout",
     "output_type": "stream",
     "text": [
      "請輸入檔案名稱(不用輸入副檔名名稱:寫入成功\n"
     ]
    }
   ],
   "source": [
    "fileName = pyip.inputFilename(\"請輸入檔案名稱(不用輸入副檔名名稱:\")\n",
    "save_to_csv(students, fileName)"
   ]
  }
 ],
 "metadata": {
  "kernelspec": {
   "display_name": "Python 3",
   "language": "python",
   "name": "python3"
  },
  "language_info": {
   "codemirror_mode": {
    "name": "ipython",
    "version": 3
   },
   "file_extension": ".py",
   "mimetype": "text/x-python",
   "name": "python",
   "nbconvert_exporter": "python",
   "pygments_lexer": "ipython3",
   "version": "3.10.13"
  }
 },
 "nbformat": 4,
 "nbformat_minor": 2
}
