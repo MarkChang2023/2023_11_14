{
 "cells": [
  {
   "cell_type": "code",
   "execution_count": 2,
   "metadata": {},
   "outputs": [
    {
     "data": {
      "text/plain": [
       "{'姓名': '馮芳如', '國文': 92, '英文': 75, '數學': 92, '地理': 89, '歷史': 77}"
      ]
     },
     "execution_count": 2,
     "metadata": {},
     "output_type": "execute_result"
    }
   ],
   "source": [
    "stu1 = {'姓名':'陳怡伶',\n",
    "        '國文':89,\n",
    "        '英文':92,\n",
    "        '數學':83,\n",
    "        '地理':91,\n",
    "        '歷史':65\n",
    "        }\n",
    "stu1\n",
    "\n",
    "stu2 = {'姓名':'馮芳如',\n",
    "        '國文':92,\n",
    "        '英文':75,\n",
    "        '數學':92,\n",
    "        '地理':89,\n",
    "        '歷史':77\n",
    "        }\n",
    "stu2"
   ]
  },
  {
   "cell_type": "code",
   "execution_count": 3,
   "metadata": {},
   "outputs": [
    {
     "data": {
      "text/plain": [
       "[{'姓名': '陳怡伶', '國文': 89, '英文': 92, '數學': 83, '地理': 91, '歷史': 65},\n",
       " {'姓名': '馮芳如', '國文': 92, '英文': 75, '數學': 92, '地理': 89, '歷史': 77}]"
      ]
     },
     "execution_count": 3,
     "metadata": {},
     "output_type": "execute_result"
    }
   ],
   "source": [
    "students = [stu1,stu2]\n",
    "students"
   ]
  },
  {
   "cell_type": "code",
   "execution_count": null,
   "metadata": {},
   "outputs": [],
   "source": [
    "from random import randint,choices\n",
    "\n",
    "def getStudents(nums:int) -> list[dict]:\n",
    "    students:list[dict] = []\n",
    "    with open('names.txt', mode='r',encoding='utf-8') as file:\n",
    "        names:str = file.read()\n",
    "    nameList:list[str] = names.split('\\n')\n",
    "    names:list[str] = choices(nameList,k=nums)\n",
    "    \n",
    "    for i in range(nums):\n",
    "        stu = {\n",
    "            '姓名':names[i],\n",
    "            '國文':randint(45,100),\n",
    "            '英文':randint(45,100),\n",
    "            '數學':randint(45,100),\n",
    "            '地理':randint(45,100),\n",
    "            '歷史':randint(45,100)\n",
    "            }\n",
    "        students.append(stu)\n",
    "    return students\n",
    "    \n"
   ]
  },
  {
   "cell_type": "code",
   "execution_count": 13,
   "metadata": {},
   "outputs": [
    {
     "name": "stdout",
     "output_type": "stream",
     "text": [
      "請輸入學生的人數(1~50):10\n"
     ]
    },
    {
     "data": {
      "text/plain": [
       "[{'姓名': '李湘婷', '國文': 93, '英文': 57, '數學': 99, '地理': 80, '歷史': 75},\n",
       " {'姓名': '馮芳如', '國文': 92, '英文': 54, '數學': 83, '地理': 66, '歷史': 88},\n",
       " {'姓名': '蔡至剛', '國文': 69, '英文': 80, '數學': 83, '地理': 58, '歷史': 48},\n",
       " {'姓名': '林怡偉', '國文': 87, '英文': 68, '數學': 50, '地理': 67, '歷史': 62},\n",
       " {'姓名': '王明昇', '國文': 61, '英文': 98, '數學': 64, '地理': 74, '歷史': 78},\n",
       " {'姓名': '楊少亮', '國文': 85, '英文': 54, '數學': 84, '地理': 89, '歷史': 94},\n",
       " {'姓名': '葉軍仰', '國文': 66, '英文': 67, '數學': 45, '地理': 69, '歷史': 89},\n",
       " {'姓名': '李進慧', '國文': 95, '英文': 65, '數學': 62, '地理': 57, '歷史': 74},\n",
       " {'姓名': '黃心航', '國文': 53, '英文': 60, '數學': 49, '地理': 96, '歷史': 62},\n",
       " {'姓名': '黃旻林', '國文': 69, '英文': 72, '數學': 78, '地理': 75, '歷史': 58}]"
      ]
     },
     "execution_count": 13,
     "metadata": {},
     "output_type": "execute_result"
    }
   ],
   "source": [
    "import pyinputplus as pyip\n",
    "s_nums:int = pyip.inputInt(\"請輸入學生的人數(1~50):\", min=1, max=50)\n",
    "print(s_nums)\n",
    "students = getStudents(s_nums)\n",
    "students"
   ]
  }
 ],
 "metadata": {
  "kernelspec": {
   "display_name": "Python 3",
   "language": "python",
   "name": "python3"
  },
  "language_info": {
   "codemirror_mode": {
    "name": "ipython",
    "version": 3
   },
   "file_extension": ".py",
   "mimetype": "text/x-python",
   "name": "python",
   "nbconvert_exporter": "python",
   "pygments_lexer": "ipython3",
   "version": "3.10.13"
  }
 },
 "nbformat": 4,
 "nbformat_minor": 2
}
