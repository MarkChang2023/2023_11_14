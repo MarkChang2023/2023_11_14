{
 "cells": [
  {
   "cell_type": "code",
   "execution_count": 2,
   "metadata": {},
   "outputs": [
    {
     "data": {
      "text/plain": [
       "{'姓名': '馮芳如', '國文': 92, '英文': 75, '數學': 92, '地理': 89, '歷史': 77}"
      ]
     },
     "execution_count": 2,
     "metadata": {},
     "output_type": "execute_result"
    }
   ],
   "source": [
    "stu1 = {'姓名':'陳怡伶',\n",
    "        '國文':89,\n",
    "        '英文':92,\n",
    "        '數學':83,\n",
    "        '地理':91,\n",
    "        '歷史':65\n",
    "        }\n",
    "stu1\n",
    "\n",
    "stu2 = {'姓名':'馮芳如',\n",
    "        '國文':92,\n",
    "        '英文':75,\n",
    "        '數學':92,\n",
    "        '地理':89,\n",
    "        '歷史':77\n",
    "        }\n",
    "stu2"
   ]
  },
  {
   "cell_type": "code",
   "execution_count": 3,
   "metadata": {},
   "outputs": [
    {
     "data": {
      "text/plain": [
       "[{'姓名': '陳怡伶', '國文': 89, '英文': 92, '數學': 83, '地理': 91, '歷史': 65},\n",
       " {'姓名': '馮芳如', '國文': 92, '英文': 75, '數學': 92, '地理': 89, '歷史': 77}]"
      ]
     },
     "execution_count": 3,
     "metadata": {},
     "output_type": "execute_result"
    }
   ],
   "source": [
    "students = [stu1,stu2]\n",
    "students"
   ]
  },
  {
   "cell_type": "code",
   "execution_count": 3,
   "metadata": {},
   "outputs": [],
   "source": [
    "from random import randint,choices\n",
    "\n",
    "def getStudents(nums:int) -> list[dict]:\n",
    "    students:list[dict] = []\n",
    "    with open('names.txt', mode='r', encoding='utf-8') as file:\n",
    "        names:str = file.read()\n",
    "    nameList:list[str] = names.split('\\n')\n",
    "    names:list[str] = choices(nameList,k=nums)\n",
    "    \n",
    "    for i in range(nums):\n",
    "        stu = {\n",
    "            '姓名':names[i],\n",
    "            '國文':randint(45,100),\n",
    "            '英文':randint(45,100),\n",
    "            '數學':randint(45,100),\n",
    "            '地理':randint(45,100),\n",
    "            '歷史':randint(45,100)\n",
    "            }\n",
    "        students.append(stu)\n",
    "    return students\n",
    "    \n"
   ]
  },
  {
   "cell_type": "code",
   "execution_count": 4,
   "metadata": {},
   "outputs": [
    {
     "name": "stdout",
     "output_type": "stream",
     "text": [
      "請輸入學生的人數(1~50):10\n"
     ]
    },
    {
     "data": {
      "text/plain": [
       "[{'姓名': '朱士弘', '國文': 78, '英文': 54, '數學': 58, '地理': 83, '歷史': 64},\n",
       " {'姓名': '郭淑真', '國文': 55, '英文': 77, '數學': 46, '地理': 85, '歷史': 75},\n",
       " {'姓名': '李政成', '國文': 67, '英文': 69, '數學': 86, '地理': 78, '歷史': 70},\n",
       " {'姓名': '陳樂紫', '國文': 75, '英文': 96, '數學': 53, '地理': 95, '歷史': 76},\n",
       " {'姓名': '柯韋成', '國文': 69, '英文': 66, '數學': 67, '地理': 78, '歷史': 45},\n",
       " {'姓名': '唐翊修', '國文': 86, '英文': 76, '數學': 57, '地理': 69, '歷史': 46},\n",
       " {'姓名': '陳逸凡', '國文': 46, '英文': 50, '數學': 54, '地理': 52, '歷史': 83},\n",
       " {'姓名': '翁鈺婷', '國文': 79, '英文': 75, '數學': 80, '地理': 63, '歷史': 54},\n",
       " {'姓名': '林佳光', '國文': 67, '英文': 73, '數學': 87, '地理': 49, '歷史': 80},\n",
       " {'姓名': '鄭琇亞', '國文': 93, '英文': 64, '數學': 80, '地理': 99, '歷史': 80}]"
      ]
     },
     "execution_count": 4,
     "metadata": {},
     "output_type": "execute_result"
    }
   ],
   "source": [
    "import pyinputplus as pyip\n",
    "s_nums:int = pyip.inputInt(\"請輸入學生的人數(1~50):\", min=1, max=50)\n",
    "print(s_nums)\n",
    "students = getStudents(s_nums)\n",
    "students"
   ]
  },
  {
   "cell_type": "code",
   "execution_count": 6,
   "metadata": {},
   "outputs": [
    {
     "name": "stdout",
     "output_type": "stream",
     "text": [
      "寫入成功\n"
     ]
    }
   ],
   "source": [
    "import csv\n",
    "with open('class1.csv', mode='w', encoding='utf-8', newline='') as file:\n",
    "    fieldnames = ['姓名', '國文', '英文', '數學', '地理', '歷史']\n",
    "    writer = csv.DictWriter(file, fieldnames=fieldnames)\n",
    "\n",
    "    writer.writeheader()\n",
    "    writer.writerows(students)\n",
    "print('寫入成功')"
   ]
  }
 ],
 "metadata": {
  "kernelspec": {
   "display_name": "Python 3",
   "language": "python",
   "name": "python3"
  },
  "language_info": {
   "codemirror_mode": {
    "name": "ipython",
    "version": 3
   },
   "file_extension": ".py",
   "mimetype": "text/x-python",
   "name": "python",
   "nbconvert_exporter": "python",
   "pygments_lexer": "ipython3",
   "version": "3.10.13"
  }
 },
 "nbformat": 4,
 "nbformat_minor": 2
}
