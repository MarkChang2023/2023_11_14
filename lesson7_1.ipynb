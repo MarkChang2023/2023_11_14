{
 "cells": [
  {
   "cell_type": "code",
   "execution_count": 2,
   "metadata": {},
   "outputs": [
    {
     "name": "stdout",
     "output_type": "stream",
     "text": [
      "請輸入第1月份存款:10000\n",
      "請輸入第2月份存款:51000\n",
      "恭喜!已經存夠了，共存了2個月份，總存款為:61000\n"
     ]
    }
   ],
   "source": [
    "#小明想要存錢買一輛機車，機車每輛30000元，他將每月存的錢輸入，當存款足夠買機車時，就顯示提示訊息告知\n",
    "\n",
    "import pyinputplus as pyip\n",
    "deposit = 0\n",
    "month = 0\n",
    "while deposit < 30000:\n",
    "    month += 1\n",
    "    money_month = pyip.inputInt(f\"請輸入第{month}月份存款:\")\n",
    "    print(money_month)\n",
    "    deposit += money_month\n",
    "print(f\"恭喜!已經存夠了，共存了{month}個月份，總存款為:{deposit}\")"
   ]
  },
  {
   "cell_type": "code",
   "execution_count": 2,
   "metadata": {},
   "outputs": [
    {
     "name": "stdout",
     "output_type": "stream",
     "text": [
      "請輸入小寫英文字，[按q就會離開程式]:London\n",
      "請輸入小寫英文字，[按q就會離開程式]:England\n",
      "請輸入小寫英文字，[按q就會離開程式]:程式結束\n"
     ]
    }
   ],
   "source": [
    "#輸入小寫的英文字，列印出第一個大寫的英文字\n",
    "#如果輸入q，就會離開程式\n",
    "import pyinputplus as pyip\n",
    "stuff = pyip.inputStr(\"請輸入小寫英文字，[按q就會離開程式]:\")\n",
    "while(stuff != 'q'):\n",
    "    print(stuff.capitalize())\n",
    "    stuff = pyip.inputStr(\"請輸入小寫英文字，[按q就會離開程式]:\")\n",
    "\n",
    "print(\"程式結束\")"
   ]
  },
  {
   "cell_type": "code",
   "execution_count": 3,
   "metadata": {},
   "outputs": [
    {
     "name": "stdout",
     "output_type": "stream",
     "text": [
      "請輸入小寫英文字，[按q就會離開程式]:Taipei\n",
      "請輸入小寫英文字，[按q就會離開程式]:Japan\n",
      "請輸入小寫英文字，[按q就會離開程式]:Korea\n",
      "請輸入小寫英文字，[按q就會離開程式]:程式結束\n"
     ]
    }
   ],
   "source": [
    "#輸入小寫的英文字，列印出第一個大寫的英文字\n",
    "#如果輸入q，就會離開程式\n",
    "import pyinputplus as pyip\n",
    "\n",
    "while True:\n",
    "    stuff = pyip.inputStr(\"請輸入小寫英文字，[按q就會離開程式]:\")\n",
    "    if stuff == 'q':\n",
    "        break\n",
    "    print(stuff.capitalize())\n",
    "    \n",
    "print(\"程式結束\")"
   ]
  },
  {
   "cell_type": "code",
   "execution_count": 14,
   "metadata": {},
   "outputs": [
    {
     "name": "stdout",
     "output_type": "stream",
     "text": [
      "請輸入第1學生成績:100\n",
      "請輸入第2學生成績:80\n",
      "請輸入第3學生成績:60\n",
      "請輸入第4學生成績:-1\n",
      "全班總成績:240，全班平均為80.0\n"
     ]
    }
   ],
   "source": [
    "#小美是一位教師，請你以while迴圈方式為小美設計一個輸入成績的程式，如果輸入負數表示成績輸入結束，\n",
    "#在輸入成績結束後顯示班上總成績及平均成績。\n",
    "\n",
    "import pyinputplus as pyip\n",
    "sum = 0\n",
    "num = 0\n",
    "while True:\n",
    "    score = pyip.inputInt(f\"請輸入第{num+1}學生成績:\")\n",
    "    print(score)\n",
    "    if score < 0:\n",
    "        break\n",
    "    num += 1\n",
    "    sum += score\n",
    "\n",
    "print(f\"全班總成績:{sum}，全班平均為{sum/(num)}\")"
   ]
  },
  {
   "cell_type": "code",
   "execution_count": 10,
   "metadata": {},
   "outputs": [
    {
     "name": "stdout",
     "output_type": "stream",
     "text": [
      "9的平方是81\n",
      "5的平方是25\n",
      "應用程式結束\n"
     ]
    }
   ],
   "source": [
    "#顯示\n",
    "#奇數輸出平方\n",
    "#偶數不做任何動作\n",
    "#'q'應用程式結束\n",
    "\n",
    "while True:\n",
    "    value = input(\"請輸入整數，輸入[q]程式結束:\")\n",
    "    if value == 'q':\n",
    "        break\n",
    "    try:\n",
    "        valueInt = int(value)\n",
    "    except:\n",
    "        print(f\"{value}輸入格式錯誤\")\n",
    "        continue\n",
    "\n",
    "    if valueInt % 2 == 1:\n",
    "        print(f\"{valueInt}的平方是{pow(valueInt,2)}\")\n",
    "    else:\n",
    "        print(\"不做任何動作\")\n",
    "print(\"應用程式結束\")"
   ]
  },
  {
   "cell_type": "code",
   "execution_count": 19,
   "metadata": {},
   "outputs": [
    {
     "name": "stdout",
     "output_type": "stream",
     "text": [
      "9的平方是81\n",
      "5的平方是25\n",
      "不做任何動作\n",
      "不做任何動作\n",
      "不做任何動作\n",
      "55的平方是3025\n",
      "a輸入格式錯誤\n",
      "應用程式結束\n"
     ]
    }
   ],
   "source": [
    "#作業3\n",
    "#更改以下程式\n",
    "#輸入'q','Q','quit','Quit','QUIT'都可以離開程式\n",
    "\n",
    "while True:\n",
    "    value = input(\"請輸入整數，輸入[q]程式結束:\")\n",
    "    if value == 'q' or value == 'Q' or value == 'quit' or value == 'Quit' or value == 'QUIT':\n",
    "        break\n",
    "    try:\n",
    "        valueInt = int(value)\n",
    "    except:\n",
    "        print(f\"{value}輸入格式錯誤\")\n",
    "        continue\n",
    "\n",
    "    if valueInt % 2 == 1:\n",
    "        print(f\"{valueInt}的平方是{pow(valueInt,2)}\")\n",
    "    else:\n",
    "        print(\"不做任何動作\")\n",
    "print(\"應用程式結束\")"
   ]
  }
 ],
 "metadata": {
  "kernelspec": {
   "display_name": "Python 3",
   "language": "python",
   "name": "python3"
  },
  "language_info": {
   "codemirror_mode": {
    "name": "ipython",
    "version": 3
   },
   "file_extension": ".py",
   "mimetype": "text/x-python",
   "name": "python",
   "nbconvert_exporter": "python",
   "pygments_lexer": "ipython3",
   "version": "3.10.13"
  }
 },
 "nbformat": 4,
 "nbformat_minor": 2
}
