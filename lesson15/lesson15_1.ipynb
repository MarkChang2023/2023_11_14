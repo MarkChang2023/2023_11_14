{
 "cells": [
  {
   "cell_type": "code",
   "execution_count": 3,
   "metadata": {},
   "outputs": [
    {
     "name": "stdout",
     "output_type": "stream",
     "text": [
      "下載成功\n"
     ]
    }
   ],
   "source": [
    "#將json的資料文字檔下載下來\n",
    "import requests\n",
    "url = 'https://opendata.cwa.gov.tw/api/v1/rest/datastore/F-C0032-001?Authorization=rdec-key-123-45678-011121314&format=JSON'\n",
    "\n",
    "response = requests.get(url)\n",
    "if response.ok:\n",
    "    print(\"下載成功\")\n",
    "    json_str:str = response.text\n",
    "else:\n",
    "    print(\"下載失敗\")"
   ]
  },
  {
   "cell_type": "code",
   "execution_count": null,
   "metadata": {},
   "outputs": [],
   "source": [
    "#使用內建的json模組裡面的json.loads這個function，將json純文字檔轉成Python的資料結構\n",
    "import json\n",
    "jsonData = json.loads(json_str)\n",
    "jsonData"
   ]
  },
  {
   "cell_type": "code",
   "execution_count": 7,
   "metadata": {},
   "outputs": [],
   "source": [
    "#由response實體方法json()，將json文字檔直接轉換成Python的資料結構\n",
    "jsonData1 = response.json()\n",
    "jsonData1[\"success\"]\n",
    "jsonData1['records']['datasetDescription']\n",
    "jsonRecords = jsonData1['records']['location']"
   ]
  },
  {
   "cell_type": "code",
   "execution_count": null,
   "metadata": {},
   "outputs": [],
   "source": [
    "weather_list:list[dict] = [] #建立了一個名為 weather_list 的空串列，該串列將包含多個字典元素\n",
    "for item in jsonRecords:     #開始一個迴圈，逐一處理jsonRecords中的每個元素，並將每個元素暫時命名為item。\n",
    "    city_item:dict = {}      #建立了一個空字典city_item，用來存放城市的資訊。\n",
    "    city_item['城市'] = item['locationName']  #將item中的locationName欄位的值存入city_item字典中的鍵為'城市'的鍵值對。\n",
    "    city_item['起始時間'] = item['weatherElement'][0]['time'][0]['startTime']\n",
    "    city_item['結束時間'] = item['weatherElement'][0]['time'][0]['endTime']\n",
    "    city_item['最低溫度'] = float(item['weatherElement'][2]['time'][0]['parameter']['parameterName'])\n",
    "    city_item['最高溫度'] = float(item['weatherElement'][4]['time'][0]['parameter']['parameterName'])\n",
    "    city_item['感覺'] = item['weatherElement'][3]['time'][2]['parameter']['parameterName']\n",
    "    weather_list.append(city_item) #將處理完的city_item字典加入到weather_list串列中\n",
    "weather_list"
   ]
  },
  {
   "cell_type": "code",
   "execution_count": null,
   "metadata": {},
   "outputs": [],
   "source": [
    "#使用DataFrame顯示為表格資料\n",
    "import pandas as pd\n",
    "dataFrame = pd.DataFrame(weather_list)\n",
    "dataFrame"
   ]
  },
  {
   "cell_type": "code",
   "execution_count": null,
   "metadata": {},
   "outputs": [],
   "source": [
    "#dataFrame可以做什麼?\n",
    "#儲存為csv檔"
   ]
  }
 ],
 "metadata": {
  "kernelspec": {
   "display_name": "Python 3",
   "language": "python",
   "name": "python3"
  },
  "language_info": {
   "codemirror_mode": {
    "name": "ipython",
    "version": 3
   },
   "file_extension": ".py",
   "mimetype": "text/x-python",
   "name": "python",
   "nbconvert_exporter": "python",
   "pygments_lexer": "ipython3",
   "version": "3.10.13"
  }
 },
 "nbformat": 4,
 "nbformat_minor": 2
}
