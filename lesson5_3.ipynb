{
 "cells": [
  {
   "cell_type": "code",
   "execution_count": 9,
   "metadata": {},
   "outputs": [
    {
     "name": "stdout",
     "output_type": "stream",
     "text": [
      "請輸入學生分數(0~100):80\n",
      "優\n"
     ]
    }
   ],
   "source": [
    "#請輸入學生分數0~100\n",
    "#0~59不及格\n",
    "#60~79及格\n",
    "#80~100優\n",
    "\n",
    "import pyinputplus as pyip\n",
    "\n",
    "scores = pyip.inputInt(\"請輸入學生分數(0~100):\",min=0,max=100)\n",
    "print(scores)\n",
    "\n",
    "if scores < 60:\n",
    "    print(\"不及格\")\n",
    "else:\n",
    "    if scores < 80:\n",
    "        print(\"及格\")\n",
    "    else:\n",
    "        print(\"優\")"
   ]
  },
  {
   "cell_type": "code",
   "execution_count": 11,
   "metadata": {},
   "outputs": [
    {
     "name": "stdout",
     "output_type": "stream",
     "text": [
      "請輸入學生分數(0~100):Number must be at maximum 100.\n",
      "請輸入學生分數(0~100):10\n",
      "不及格\n"
     ]
    }
   ],
   "source": [
    "#請輸入學生分數0~100\n",
    "#0~59不及格\n",
    "#60~79及格\n",
    "#80~100優\n",
    "\n",
    "import pyinputplus as pyip\n",
    "\n",
    "scores = pyip.inputInt(\"請輸入學生分數(0~100):\",min=0,max=100)\n",
    "print(scores)\n",
    "#多向選擇\n",
    "if scores < 60:\n",
    "    print(\"不及格\")\n",
    "elif scores < 80:\n",
    "    print(\"及格\")\n",
    "else:\n",
    "    print(\"優\")"
   ]
  },
  {
   "cell_type": "code",
   "execution_count": 17,
   "metadata": {},
   "outputs": [
    {
     "name": "stdout",
     "output_type": "stream",
     "text": [
      "請輸入學生分數(0~100):89\n",
      "甲\n"
     ]
    }
   ],
   "source": [
    "# 90(含)~100分為「優」\n",
    "# 80(含)~89分為「甲」\n",
    "# 70(含)~79分為「乙」\n",
    "# 60(含)~69分為「丙」\n",
    "# 0(含)~59分為「丁」\n",
    "\n",
    "import pyinputplus as pyip\n",
    "\n",
    "scores = pyip.inputInt(\"請輸入學生分數(0~100):\",min=0,max=100)\n",
    "print(scores)\n",
    "#多向選擇\n",
    "if scores < 60:\n",
    "    print(\"丁\")\n",
    "elif scores < 70:\n",
    "    print(\"丙\")\n",
    "elif scores < 80:\n",
    "    print(\"乙\")\n",
    "elif scores < 90:\n",
    "    print(\"甲\")\n",
    "else:\n",
    "    print(\"優\")"
   ]
  },
  {
   "cell_type": "code",
   "execution_count": 6,
   "metadata": {},
   "outputs": [
    {
     "name": "stdout",
     "output_type": "stream",
     "text": [
      "請輸入學生分數(0~100):15\n",
      "丁\n"
     ]
    }
   ],
   "source": [
    "#作業\n",
    "# 90(含)~100分為「優」\n",
    "# 80(含)~89分為「甲」\n",
    "# 70(含)~79分為「乙」\n",
    "# 60(含)~69分為「丙」\n",
    "# 0(含)~59分為「丁」\n",
    "\n",
    "import pyinputplus as pyip\n",
    "\n",
    "scores = pyip.inputInt(\"請輸入學生分數(0~100):\",min=0,max=100)\n",
    "print(scores)\n",
    "#多向選擇\n",
    "if scores >= 90:\n",
    "    print(\"優\")\n",
    "elif scores >= 80:\n",
    "    print(\"甲\")\n",
    "elif scores >= 70:\n",
    "    print(\"乙\")\n",
    "elif scores >= 60:\n",
    "    print(\"丙\")\n",
    "else:\n",
    "    print(\"丁\")"
   ]
  },
  {
   "cell_type": "code",
   "execution_count": 4,
   "metadata": {},
   "outputs": [
    {
     "name": "stdout",
     "output_type": "stream",
     "text": [
      "請輸入購買金額:50000\n",
      "實付金額是:42500.0\n"
     ]
    }
   ],
   "source": [
    "#作業2\n",
    "#輸入顧客購買金額，若金額在\n",
    "#100000元打8折.\n",
    "#50000打85折.\n",
    "#30000打9折.\n",
    "#10000打95折.\n",
    "\n",
    "import pyinputplus as pyip\n",
    "\n",
    "price = pyip.inputInt(\"請輸入購買金額:\")\n",
    "print(price)\n",
    "\n",
    "if price >= 100000:\n",
    "    price *= 0.8\n",
    "    print(f'實付金額是:{price}')\n",
    "elif price >= 50000:\n",
    "    price *= 0.85\n",
    "    print(f'實付金額是:{price}')\n",
    "elif price >= 30000:\n",
    "    price *= 0.9\n",
    "    print(f'實付金額是:{price}')\n",
    "elif price >= 10000:\n",
    "    price *= 0.95\n",
    "    print(f'實付金額是:{price}')\n",
    "else:\n",
    "    print(f'實付金額是:{price}')"
   ]
  },
  {
   "cell_type": "code",
   "execution_count": 6,
   "metadata": {},
   "outputs": [
    {
     "name": "stdout",
     "output_type": "stream",
     "text": [
      "請輸入身高，單位為(公分):174\n",
      "請輸入體重，單位為(公斤):70\n",
      "您的BMI是23.12062\n",
      "您的體重正常\n"
     ]
    }
   ],
   "source": [
    "#作業2-1\n",
    "#請依據 BMI 值分析他人的身體狀況\n",
    "#請輸入身高,單位為(公分):177\n",
    "#請輸入體重,單位為(公斤):80\n",
    "#您的BMI是25.53544\n",
    "#「您的體重過重」\n",
    "\n",
    "import pyinputplus as pyip\n",
    "import math\n",
    "\n",
    "height = pyip.inputInt(\"請輸入身高，單位為(公分):\")\n",
    "print(height)\n",
    "weight = pyip.inputInt(\"請輸入體重，單位為(公斤):\")\n",
    "print(weight)\n",
    "\n",
    "BMI = weight / math.pow(height/100,2)\n",
    "if BMI < 18.5:\n",
    "    print(f'您的BMI是:{BMI:.5f}')\n",
    "    print(\"「您的體重過輕」\")\n",
    "elif 18.5 <= BMI < 24:\n",
    "    print(f'您的BMI是{BMI:.5f}')\n",
    "    print(\"「您的體重正常」\")\n",
    "elif 24 <= BMI < 27:\n",
    "    print(f'您的BMI是{BMI:.5f}')\n",
    "    print(\"「您的體重過重」\")\n",
    "elif 27 <= BMI < 30:\n",
    "    print(f'您的BMI是{BMI:.5f}')\n",
    "    print(\"「您的體重輕度肥胖」\")\n",
    "elif 30 <= BMI < 35:\n",
    "    print(f'您的BMI是{BMI:.5f}')\n",
    "    print(\"「您的體重中度肥胖」\")\n",
    "else:\n",
    "    print(f'您的BMI是{BMI:.5f}')\n",
    "    print(\"「您的體重重度肥胖」\")"
   ]
  }
 ],
 "metadata": {
  "kernelspec": {
   "display_name": "Python 3",
   "language": "python",
   "name": "python3"
  },
  "language_info": {
   "codemirror_mode": {
    "name": "ipython",
    "version": 3
   },
   "file_extension": ".py",
   "mimetype": "text/x-python",
   "name": "python",
   "nbconvert_exporter": "python",
   "pygments_lexer": "ipython3",
   "version": "3.10.13"
  }
 },
 "nbformat": 4,
 "nbformat_minor": 2
}
